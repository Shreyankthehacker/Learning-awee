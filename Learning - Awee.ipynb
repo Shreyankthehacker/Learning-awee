{
  "cells": [
    {
      "cell_type": "markdown",
      "metadata": {
        "id": "view-in-github",
        "colab_type": "text"
      },
      "source": [
        "<a href=\"https://colab.research.google.com/github/Shreyankthehacker/Learning-awee/blob/main/Learning%20-%20Awee.ipynb\" target=\"_parent\"><img src=\"https://colab.research.google.com/assets/colab-badge.svg\" alt=\"Open In Colab\"/></a>"
      ]
    },
    {
      "cell_type": "code",
      "source": [
        "!pip install uv\n",
        "!uv pip install -r requirements.txt"
      ],
      "metadata": {
        "id": "hLc_9i_hOT-6"
      },
      "execution_count": null,
      "outputs": []
    },
    {
      "cell_type": "code",
      "execution_count": null,
      "metadata": {
        "id": "kaI3h9diLcBr"
      },
      "outputs": [],
      "source": [
        "from pydantic import BaseModel,Field\n",
        "from typing import List,Annotated,operator\n",
        "\n",
        "class State(BaseModel):\n",
        "    query : str = Field(description='The query given by the user')\n",
        "    answer : Annotated[List[str],operator.add] = Field(description=\"Answer given by the application for better understanding of the user\")\n",
        "\n",
        "\n",
        "from langchain_google_genai import ChatGoogleGenerativeAI\n",
        "from dotenv import load_dotenv\n",
        "load_dotenv()\n",
        "\n",
        "\n",
        "llm = ChatGoogleGenerativeAI(model = 'gemini-2.0-flash')\n"
      ]
    },
    {
      "cell_type": "code",
      "execution_count": null,
      "metadata": {
        "id": "PBQ56WgALcBu"
      },
      "outputs": [],
      "source": [
        "from langchain_core.prompts import ChatPromptTemplate\n",
        "from langchain_core.output_parsers import StrOutputParser\n",
        "\n",
        "another_example_prompt = '''\n",
        "You are given an example of a structured document or response.\n",
        "\n",
        "Your task is to generate another example that follows the same structure, tone, and formatting — but with different content, keeping it logically consistent and realistic.\n",
        "\n",
        "Instructions:\n",
        "1. Carefully analyze the style, format, and data points in the provided example.\n",
        "2. Generate a new example that could logically follow or be used as a sibling example.\n",
        "3. Maintain the same level of detail and type of content.\n",
        "4. Do not copy or paraphrase — create original data with the same schema.\n",
        "\n",
        "Example:\n",
        "{query}\n",
        "\n",
        "Now, generate one more example in the exact same structure.\n",
        "'''\n",
        "\n",
        "\n",
        "template = ChatPromptTemplate.from_template(another_example_prompt)\n",
        "\n",
        "example_chain = template | llm | StrOutputParser()\n",
        "\n",
        "def get_example(state:State):\n",
        "    result = example_chain.invoke({'query':state.query})\n",
        "    return {'answer':state.answer+[result]}"
      ]
    },
    {
      "cell_type": "code",
      "execution_count": null,
      "metadata": {
        "id": "g3wYMrMqLcBw"
      },
      "outputs": [],
      "source": [
        "similar_question = '''\n",
        "You are given a question. Your task is to generate 3 similar questions that ask about the same topic or intent but are phrased differently.\n",
        "\n",
        "Guidelines:\n",
        "1. Preserve the core meaning of the question.\n",
        "2. Use different wording, sentence structure, or question style (e.g., descriptive, interrogative, comparative).\n",
        "3. Keep the tone and difficulty level consistent.\n",
        "4. Avoid exact synonyms in all versions — be creative in rephrasing.\n",
        "\n",
        "Example:\n",
        "Original Question: What are the applications of soft matter physics?\n",
        "\n",
        "Similar Questions:\n",
        "1. How is soft matter physics applied in real-world scenarios?\n",
        "2. What are some practical uses of soft matter in industry and research?\n",
        "3. In which fields is soft matter physics commonly utilized?\n",
        "\n",
        "Now, generate 3 similar questions for the following:\n",
        "\n",
        "Original Question:{query}\n",
        "'''\n",
        "\n",
        "template = ChatPromptTemplate.from_template(similar_question)\n",
        "\n",
        "simq_chain = template | llm | StrOutputParser()\n",
        "\n",
        "def get_similar_questions(state:State):\n",
        "    result = simq_chain.invoke({'query':state.query})\n",
        "    return {'answer':state.answer+[result]}"
      ]
    },
    {
      "cell_type": "code",
      "execution_count": null,
      "metadata": {
        "id": "jwteFaP3LcBw"
      },
      "outputs": [],
      "source": [
        "from serpapi import GoogleSearch # type: ignore\n",
        "import os\n",
        "from dotenv import load_dotenv\n",
        "load_dotenv()\n",
        "\n",
        "SERP = os.getenv('SERPAPI_API_KEY')\n",
        "\n",
        "def youtube_search_serpapi(state:State):\n",
        "    print(\"yt\")\n",
        "    params = {\n",
        "        \"engine\": \"youtube\",\n",
        "        \"search_query\": state.query,\n",
        "        \"api_key\":SERP\n",
        "    }\n",
        "\n",
        "    search = GoogleSearch(params)\n",
        "    results = search.get_dict()\n",
        "\n",
        "    videos = results.get(\"video_results\", [])[:5]\n",
        "    print(videos)\n",
        "    formatted_results = [\n",
        "        f\"{i + 1}. {v.get('title')}\\n   {v.get('link')}\"\n",
        "        for i, v in enumerate(videos)\n",
        "    ]\n",
        "\n",
        "    return {'answer':state.answer+[\"Youtube videos that you can go through are\"]+[formatted_results]}\n",
        "\n",
        "\n"
      ]
    },
    {
      "cell_type": "code",
      "execution_count": null,
      "metadata": {
        "id": "TZENc-eCLcBx"
      },
      "outputs": [],
      "source": [
        "from langchain_community.tools.tavily_search import TavilySearchResults\n",
        "\n",
        "tavily = TavilySearchResults()\n",
        "\n",
        "def bookrec(state: State):\n",
        "    '''Tool to perform web search for getting relevant books'''\n",
        "    print('Running web search...')\n",
        "\n",
        "    # Ask the LLM to create a search query\n",
        "\n",
        "\n",
        "from serpapi import GoogleSearch\n",
        "\n",
        "def bookrec(state: State):\n",
        "    params = {\n",
        "        \"engine\": \"google\",\n",
        "        \"q\":f\"{state.query} related boks\",\n",
        "        \"api_key\": SERP,    # your SerpAPI key as a string or env var\n",
        "        \"num\": 5           # get top 5 results\n",
        "    }\n",
        "\n",
        "    search = GoogleSearch(params)\n",
        "    results = search.get_dict()\n",
        "\n",
        "    organic_results = results.get(\"organic_results\", [])[:5]\n",
        "    print(organic_results)\n",
        "\n",
        "    formatted_results = [\n",
        "        f\"{i + 1}. {res.get('title')}\\n   {res.get('link')}\"\n",
        "        for i, res in enumerate(organic_results)\n",
        "    ]\n",
        "\n",
        "    return {'answer': state.answer + [\"Google search results:\"] + formatted_results}\n"
      ]
    },
    {
      "cell_type": "code",
      "execution_count": null,
      "metadata": {
        "id": "GyLFVIZxLcBy"
      },
      "outputs": [],
      "source": [
        "import wikipedia\n",
        "\n",
        "def wiki_explainer_tool(state):\n",
        "    \"\"\"Explains a topic using Wikipedia summary.\"\"\"\n",
        "    print(\"wiki\")\n",
        "    #result = llm.invoke({f\" i want to get blogs realted to {state.query} from wen search for that get me a suitable searching query so that i can execute and get the blogs related to this query\"})\n",
        "    try:\n",
        "        out = wikipedia.summary(state.query, sentences=5)\n",
        "    except Exception as e:\n",
        "       return {'answer':state.answer}\n",
        "    return {'answer':state.answer+[\"Wikipidea information\"]+[out]}\n"
      ]
    },
    {
      "cell_type": "code",
      "execution_count": null,
      "metadata": {
        "id": "0U4Gx59RLcBy"
      },
      "outputs": [],
      "source": [
        "from IPython.display import Video\n",
        "import subprocess\n",
        "import warnings\n",
        "from langchain_core.prompts import ChatPromptTemplate\n",
        "from langchain_core.output_parsers import StrOutputParser\n",
        "import re\n",
        "\n",
        "\n",
        "template_for_manim = '''\n",
        "You are an expert in using Manim (Mathematical Animation Engine) to create beautiful and precise mathematical animations using Python code.\n",
        "\n",
        "Your task is to generate Manim Python code based solely on:\n",
        "\n",
        "1. A **math-related query** (e.g., explain Pythagoras' theorem visually, show vector addition, illustrate derivative on a graph).\n",
        "2. A **simple visual description** or example for how it could be animated — only using **text** or **emojis**, no images.\n",
        "\n",
        "⚠️ Guidelines:\n",
        "- Only output valid Python code compatible with Manim Community Edition.\n",
        "- Do not include any text explanation or description — return **code only**.\n",
        "- Do not use images or external assets — use only text (like Tex, MathTex, MarkupText) or emojis when needed.\n",
        "- Try your best to match the query and visualization using Manim's animation capabilities.\n",
        "\n",
        "IMPORTANT: You must output **only the raw executable Python code**, with no additional text, no comments, no markdown fences (no triple backticks or 'python' tags), and no other formatting or explanation before or after the code.\n",
        "\n",
        "At the very end of your code, add the line:\n",
        "print(\"enjoy animation\")\n",
        "\n",
        "Write the code in such a way that the animation should be pleasing to watch with colour and make sure words don't overlap on one another.\n",
        "\n",
        "INPUT FORMAT:\n",
        "Query: {query}\n",
        "Example: {example}\n",
        "\n",
        "OUTPUT FORMAT:\n",
        "Only the Python code (for Manim), exactly as it should be saved in a `.py` file, with nothing else.\n",
        "\n",
        "Now generate the code.\n",
        "'''\n",
        "\n",
        "eg_template = prompt = (\n",
        "    \"You are a helpful and knowledgeable math tutor.\\n\"\n",
        "    \"I will give you either a math problem or just the name of a topic.\\n\"\n",
        "    \"If I give you a math problem, solve it step by step with clear and concise explanations.\\n\"\n",
        "    \"If I give you only a topic name, return a simple but effective example problem along with a full solution that helps explain the topic.\\n\"\n",
        "    \"Keep your responses easy to understand and focused on building intuition.\"\n",
        "\n",
        "    \"Input format :\"\n",
        "    \"Query:{query}\"\n",
        ")\n",
        "\n",
        "topic_chain = ChatPromptTemplate.from_template(eg_template) | llm | StrOutputParser()\n",
        "\n",
        "\n",
        "\n",
        "prompt_manim = ChatPromptTemplate.from_template(template_for_manim)\n",
        "\n",
        "chain = prompt_manim | llm | StrOutputParser()\n",
        "\n",
        "\n",
        "import subprocess\n",
        "\n",
        "def video_animation(state: State):\n",
        "    query = state.query\n",
        "\n",
        "    example = topic_chain.invoke({'query': query})\n",
        "    result = chain.invoke({'query': query, 'example': example})\n",
        "\n",
        "    print(\"Initial generated code:\")\n",
        "    print(result)\n",
        "\n",
        "    marker = \"from manim import *\"\n",
        "    sindex = result.find(marker)\n",
        "    if sindex == -1:\n",
        "        return {\"error\": \"Generated code not found in output.\"}\n",
        "\n",
        "\n",
        "    lindex = result.rfind(\"```\")\n",
        "\n",
        "    code = result[sindex:lindex]\n",
        "\n",
        "    max_attempts = 3\n",
        "    attempt = 0\n",
        "\n",
        "    while attempt < max_attempts:\n",
        "        with open(\"hello.py\", \"w\") as f:\n",
        "            f.write(code)\n",
        "\n",
        "\n",
        "        process = subprocess.run(\n",
        "            ['manim', '-pql', 'hello.py'],\n",
        "            capture_output=True,\n",
        "            text=True\n",
        "        )\n",
        "\n",
        "        if process.returncode == 0:\n",
        "            print(\"Manim ran successfully.\")\n",
        "            break\n",
        "\n",
        "\n",
        "        error_message = process.stderr\n",
        "        print(f\"Manim error on attempt {attempt+1}:\\n{error_message}\")\n",
        "\n",
        "\n",
        "        fix_prompt = (\n",
        "            f\"The following Manim code failed to run with error:\\n{error_message}\\n\\n\"\n",
        "            f\"Please fix the code so it runs successfully: annd just return the python code that is executable and directly able to write in .py file i dont want anything additional\\n\\n{code}\"\n",
        "        )\n",
        "\n",
        "        fixed_result = llm.invoke(fix_prompt)\n",
        "        fixed_code_start = fixed_result.content.find(marker)\n",
        "        if fixed_code_start == -1:\n",
        "\n",
        "            return {\"error\": \"LLM did not return valid fixed code.\", \"llm_response\": fixed_result.content}\n",
        "        index = fixed_result.rfind(\"```\")\n",
        "\n",
        "        code = fixed_result.content[fixed_code_start:index].strip()\n",
        "        attempt += 1\n",
        "\n",
        "    if attempt == max_attempts and process.returncode != 0:\n",
        "\n",
        "        return {\"error\": \"Failed to generate runnable Manim code after multiple attempts.\", \"last_error\": error_message}\n",
        "\n",
        "    return {\"State\": state, \"message\": \"Manim animation generated and ran successfully.\"}\n",
        "\n",
        "\n",
        "\n",
        "\n"
      ]
    },
    {
      "cell_type": "code",
      "execution_count": null,
      "metadata": {
        "id": "Vn2QVnB-LcBz"
      },
      "outputs": [],
      "source": [
        "import json\n",
        "from langchain_chroma import Chroma\n",
        "from langchain_huggingface import HuggingFaceEmbeddings\n",
        "\n",
        "\n",
        "embedding_model = HuggingFaceEmbeddings(model_name=\"sentence-transformers/all-MiniLM-L6-v2\")\n",
        "vectorstore = Chroma(persist_directory=\"/home/shreyank/Gen-ai/Task-3/education/chroma_course_db\", embedding_function=embedding_model)\n",
        "\n",
        "def course_recommendation(state: State):\n",
        "    query = state.query\n",
        "    print(\"searching\")\n",
        "\n",
        "    results = vectorstore.similarity_search(query, k=3)\n",
        "\n",
        "    # Load all courses from JSON file (assuming it's a list of dicts)\n",
        "    with open('course.json', 'r') as f:\n",
        "        courses = json.load(f)\n",
        "\n",
        "    # Extract course names from the top-k documents\n",
        "    matched_courses = []\n",
        "    for doc in results:\n",
        "        course_name = doc.metadata.get(\"course_name\")\n",
        "        if course_name:\n",
        "            for c in courses:\n",
        "                if c.get(\"course_name\") == course_name:\n",
        "                    matched_courses.append({\n",
        "                        \"course_name\": course_name,\n",
        "                        \"course_url\": c.get(\"course_url\"),\n",
        "                        \"abstract\": c.get(\"abstract\", \"\"),\n",
        "                        \"instructor\": c.get(\"instructor\", \"\")\n",
        "                    })\n",
        "                    break  # Break after first match to avoid duplicates\n",
        "\n",
        "    # Build the final answer\n",
        "    recommendations = [\"Recommended NPTEL course(s):\"]\n",
        "    for course in matched_courses:\n",
        "        recommendations.append(f\"{course['course_name']} - {course['course_url']}\")\n",
        "\n",
        "    return {\"answer\": state.answer + [\"Recommended NPTEL courses are\"]+recommendations}\n"
      ]
    },
    {
      "cell_type": "code",
      "execution_count": null,
      "metadata": {
        "id": "FBTfPtWgLcB0",
        "outputId": "b69027bd-14a3-41ff-d54f-7afd9ec7a63e"
      },
      "outputs": [
        {
          "name": "stdout",
          "output_type": "stream",
          "text": [
            "🎤 Recording for 5 seconds...\n",
            "✅ Recording complete.\n",
            "💾 Saved MP3 as: my_recording.mp3\n"
          ]
        }
      ],
      "source": [
        "import sounddevice as sd\n",
        "from scipy.io.wavfile import write\n",
        "from pydub import AudioSegment\n",
        "import os\n",
        "\n",
        "def record_audio_to_mp3(filename=\"output.mp3\", duration=5, sample_rate=44100, channels=2):\n",
        "    \"\"\"\n",
        "    Records audio from the microphone and saves it as an MP3 file.\n",
        "\n",
        "    Args:\n",
        "        filename (str): Output MP3 file name.\n",
        "        duration (int): Duration of the recording in seconds.\n",
        "        sample_rate (int): Sampling rate in Hz.\n",
        "        channels (int): Number of audio channels (1=Mono, 2=Stereo).\n",
        "    \"\"\"\n",
        "    wav_filename = filename.replace(\".mp3\", \".wav\")\n",
        "\n",
        "    print(f\"🎤 Recording for {duration} seconds...\")\n",
        "    audio = sd.rec(int(duration * sample_rate), samplerate=sample_rate, channels=channels)\n",
        "    sd.wait()\n",
        "    print(\"✅ Recording complete.\")\n",
        "\n",
        "    # Save temporary WAV file\n",
        "    write(wav_filename, sample_rate, audio)\n",
        "\n",
        "    # Convert to MP3\n",
        "    sound = AudioSegment.from_wav(wav_filename)\n",
        "    sound.export(filename, format=\"mp3\")\n",
        "    print(f\"💾 Saved MP3 as: {filename}\")\n",
        "\n",
        "    # Cleanup\n",
        "    os.remove(wav_filename)\n",
        "\n",
        "# Example usage\n",
        "if __name__ == \"__main__\":\n",
        "    record_audio_to_mp3(\"my_recording.mp3\", duration=5)\n"
      ]
    },
    {
      "cell_type": "code",
      "execution_count": null,
      "metadata": {
        "id": "pUOna3G4LcB2"
      },
      "outputs": [],
      "source": [
        "import whisper\n",
        "import warnings\n",
        "warnings.filterwarnings(\"ignore\")\n",
        "\n",
        "model = whisper.load_model(\"tiny\")\n",
        "\n",
        "def transcribe(audio):\n",
        "    text = model.transcribe(audio)['text']\n",
        "    print(text)\n",
        "    return text\n",
        "\n",
        "\n",
        "def get_query(state:State):\n",
        "    choice = input(\"Enter the choice 1 for audio any button for text\")\n",
        "    if choice=='1':\n",
        "        record_audio_to_mp3(duration = 50)\n",
        "        question = transcribe(\"my_recording.mp3\")\n",
        "    question = input(\"Enter your query\")\n",
        "    return {'query':question}\n"
      ]
    },
    {
      "cell_type": "code",
      "execution_count": null,
      "metadata": {
        "id": "jKQb43pmLcB2"
      },
      "outputs": [],
      "source": [
        "from langchain_google_genai import ChatGoogleGenerativeAI\n",
        "from dotenv import load_dotenv\n",
        "load_dotenv()\n",
        "\n",
        "\n",
        "llm = ChatGoogleGenerativeAI(model = 'gemini-2.0-flash')\n"
      ]
    },
    {
      "cell_type": "code",
      "execution_count": null,
      "metadata": {
        "id": "hSq0e2rcLcB3",
        "outputId": "df9b2950-7d0e-4937-d3f6-fbb7ac182c06"
      },
      "outputs": [
        {
          "data": {
            "text/plain": [
              "<langgraph.graph.state.StateGraph at 0x719d951b8910>"
            ]
          },
          "execution_count": 46,
          "metadata": {},
          "output_type": "execute_result"
        }
      ],
      "source": [
        "from langgraph.graph import StateGraph,START,END\n",
        "\n",
        "builder = StateGraph(State)\n",
        "\n",
        "builder.add_node(get_query)\n",
        "builder.add_node(\"video_animation\",video_animation)\n",
        "builder.add_node(\"Example Generator\",get_example)\n",
        "builder.add_node(course_recommendation)\n",
        "builder.add_node(\"Similar questions\",get_similar_questions)\n",
        "builder.add_node(\"book Recommendations\",bookrec)\n",
        "builder.add_node(\"Blogs\",wiki_explainer_tool)\n",
        "builder.add_node(\"Youtube recommendations\",youtube_search_serpapi)"
      ]
    },
    {
      "cell_type": "code",
      "execution_count": null,
      "metadata": {
        "id": "39rSxHEZLcB3",
        "outputId": "8d9c62d2-866f-4dfb-fe9a-0d242c523492"
      },
      "outputs": [
        {
          "data": {
            "text/plain": [
              "<langgraph.graph.state.StateGraph at 0x719d951b8910>"
            ]
          },
          "execution_count": 48,
          "metadata": {},
          "output_type": "execute_result"
        }
      ],
      "source": [
        "builder.add_edge(START,\"get_query\")\n",
        "builder.add_edge(\"get_query\",\"video_animation\")\n",
        "builder.add_edge(\"get_query\",\"Example Generator\")\n",
        "builder.add_edge(\"get_query\",\"course_recommendation\")\n",
        "builder.add_edge(\"get_query\",\"Similar questions\")\n",
        "builder.add_edge(\"get_query\",'book Recommendations')\n",
        "builder.add_edge(\"get_query\",'Blogs')\n",
        "builder.add_edge(\"get_query\",'Youtube recommendations')\n"
      ]
    },
    {
      "cell_type": "code",
      "execution_count": null,
      "metadata": {
        "id": "NW2MGupKLcB4"
      },
      "outputs": [],
      "source": [
        "graph = builder.compile()"
      ]
    },
    {
      "cell_type": "code",
      "execution_count": null,
      "metadata": {
        "id": "VQ3jZZEgLcB4",
        "outputId": "8b7bb05e-7079-4470-b6e8-90eb1c903e22"
      },
      "outputs": [
        {
          "name": "stdout",
          "output_type": "stream",
          "text": [
            "wiki\n",
            "yt\n",
            "searching\n",
            "[{'position_on_page': 2, 'title': 'Beggar Method | Permutation Combination | Mathematics | ALLEN Digital', 'link': 'https://www.youtube.com/watch?v=W8WIgd5OjpQ', 'serpapi_link': 'https://serpapi.com/search.json?engine=youtube_video&v=W8WIgd5OjpQ', 'channel': {'name': 'ALLEN Career Institute', 'link': 'https://www.youtube.com/@ALLENCareerInstituteofficial', 'verified': True, 'thumbnail': 'https://yt3.ggpht.com/eYL1nv41lFYd7d49CW9VwIutXmWTJueXlf7d8-qUgwsNQVRwNK_nsq-UUuUkOvLxnJOEird9AWk=s68-c-k-c0x00ffffff-no-rj'}, 'published_date': '3 years ago', 'views': 18539, 'length': '4:06', 'description': '#ALLENDigital #KotaCoaching #ALLENKota #PermutationCombination #Mathematics #Learning #Education\\xa0...', 'thumbnail': {'static': 'https://i.ytimg.com/vi/W8WIgd5OjpQ/hq720.jpg?sqp=-oaymwEjCOgCEMoBSFryq4qpAxUIARUAAAAAGAElAADIQj0AgKJDeAE=&rs=AOn4CLCiPcjw8Ygh2kEjLmS-IHtZa---Rw'}}, {'position_on_page': 3, 'title': 'Permutation & Combination | One Shot | #BounceBack Series | JEE Maths | Nishant Vora', 'link': 'https://www.youtube.com/watch?v=lmk1sJo0728', 'serpapi_link': 'https://serpapi.com/search.json?engine=youtube_video&v=lmk1sJo0728', 'channel': {'name': 'Unacademy Atoms', 'link': 'https://www.youtube.com/@UnacademyAtoms', 'thumbnail': 'https://yt3.ggpht.com/ytc/AIdro_lI0__RPsAnCVM5lvbI-mpwyPgKTjyekmaVRWByVmQlIw=s68-c-k-c0x00ffffff-no-rj'}, 'published_date': 'Streamed 3 years ago', 'views': 1502177, 'length': '6:57:21', 'description': \"Welcome to Unacademy Atoms Channel, your one-stop solution for all JEE Exams India's Top Educators will be teaching you\\xa0...\", 'thumbnail': {'static': 'https://i.ytimg.com/vi/lmk1sJo0728/hq720.jpg?sqp=-oaymwEjCOgCEMoBSFryq4qpAxUIARUAAAAAGAElAADIQj0AgKJDeAE=&rs=AOn4CLBu4rFTeJ8GKCHyczJ_6e623mbe0w'}}, {'position_on_page': 5, 'title': 'Permutations and Combinations Tutorial', 'link': 'https://www.youtube.com/watch?v=XJnIdRXUi7A', 'serpapi_link': 'https://serpapi.com/search.json?engine=youtube_video&v=XJnIdRXUi7A', 'channel': {'name': 'The Organic Chemistry Tutor', 'link': 'https://www.youtube.com/@TheOrganicChemistryTutor', 'verified': True, 'thumbnail': 'https://yt3.ggpht.com/ytc/AIdro_lOQikQsmqQS3dG9VBvbJ03Eqqw7NshUvDNorj5UAZL6M0=s68-c-k-c0x00ffffff-no-rj'}, 'published_date': '8 years ago', 'views': 3943524, 'length': '17:41', 'description': 'This video tutorial focuses on permutations and combinations. It contains a few word problems including one associated with the\\xa0...', 'thumbnail': {'static': 'https://i.ytimg.com/vi/XJnIdRXUi7A/hq720.jpg?sqp=-oaymwEjCOgCEMoBSFryq4qpAxUIARUAAAAAGAElAADIQj0AgKJDeAE=&rs=AOn4CLBoMyhSe6OHdxAEtcn0jwr9pE2C1Q'}}, {'position_on_page': 6, 'title': \"Beggar's Method | Decoded 🧐 | JEE Main 2022 | JEE Maths | Vedantu JEE\", 'link': 'https://www.youtube.com/watch?v=i_5i0BEBzFA', 'serpapi_link': 'https://serpapi.com/search.json?engine=youtube_video&v=i_5i0BEBzFA', 'channel': {'name': 'Vedantu JEE', 'link': 'https://www.youtube.com/@JEEVedantu', 'verified': True, 'thumbnail': 'https://yt3.ggpht.com/KFSIIM2aAS9TImA_zU2K6_S_xPtbmEykwoO96Cf_8uRLzqd6sL_lv0AFLQO2mQ-3Ylk6CYj4=s68-c-k-c0x00ffffff-no-rj'}, 'published_date': '4 years ago', 'views': 41595, 'length': '36:14', 'description': \"Today's Decoded 🧐 (JEE Main 2022) session is about the Permutations and combinations IIT JEE - Beggars method JEE | JEE\\xa0...\", 'thumbnail': {'static': 'https://i.ytimg.com/vi/i_5i0BEBzFA/hq720.jpg?sqp=-oaymwEjCOgCEMoBSFryq4qpAxUIARUAAAAAGAElAADIQj0AgKJDeAE=&rs=AOn4CLBXANH8TwI4nx7n-R8HXgY0-uq0nw'}}, {'position_on_page': 7, 'title': 'Beggars Method in JEE Mains: 2 Similar, Yet Different P&C Questions | + H.W. | JEE PYQs | JEE 2025', 'link': 'https://www.youtube.com/watch?v=nrg1_4XcsnI', 'serpapi_link': 'https://serpapi.com/search.json?engine=youtube_video&v=nrg1_4XcsnI', 'channel': {'name': 'Factorial Academy', 'link': 'https://www.youtube.com/@factorialacademy', 'thumbnail': 'https://yt3.ggpht.com/BVoLkP4w7OmtabeopX2krn3ePl7J3b-LeEr_rlrpPHN7VdpT0YgFvZfbe9CPrDw_GheIi1Dy=s68-c-k-c0x00ffffff-no-rj'}, 'published_date': '4 months ago', 'views': 12228, 'length': '9:04', 'description': 'Beggars Method in JEE Mains: 2 Similar, Yet Different P&C Questions | + H.W. | JEE PYQs | JEE 2025 | JEE Mains 2023 | JEE\\xa0...', 'thumbnail': {'static': 'https://i.ytimg.com/vi/nrg1_4XcsnI/hq720.jpg?sqp=-oaymwEjCOgCEMoBSFryq4qpAxUIARUAAAAAGAElAADIQj0AgKJDeAE=&rs=AOn4CLBI_NiLo_APDXCmDB6o64h1Ww5RYw'}}]\n",
            "[{'position': 1, 'title': 'Which is the best book to learn permutation and ...', 'link': 'https://www.quora.com/What-are-some-good-books-for-permutation-and-combination?top_ans=119349054', 'redirect_link': 'https://www.google.com/url?sa=t&source=web&rct=j&opi=89978449&url=https://www.quora.com/What-are-some-good-books-for-permutation-and-combination%3Ftop_ans%3D119349054&ved=2ahUKEwiVjuPug6iNAxU4KbkGHU5QAdQQFnoECB0QAQ', 'displayed_link': '3 answers · 11 years ago', 'favicon': 'https://serpapi.com/searches/682734d2ac1765ffad048085/images/536f6f18a53e0f7769ea92bc4b602977a73b666a388d8b958956092c00085d67.png', 'snippet': 'Introductory Combinatorics is best. But if you are preparing for ICPC, practicing problems on these topics helps rather than reading.', 'snippet_highlighted_words': ['Introductory Combinatorics'], 'missing': ['Beggars'], 'must_include': {'word': 'Beggars', 'link': 'https://www.google.com/search?num=5&sca_esv=9a5e0d52e8e6d667&q=%22Beggars%22+problem+permutation+and+combination+related+books&sa=X&ved=2ahUKEwiVjuPug6iNAxU4KbkGHU5QAdQQ5t4CegQIJBAB'}, 'source': 'Quora'}, {'position': 2, 'title': \"Permutations and Combinations: Beggar's Method\", 'link': 'https://kingseducation.in/mod/book/view.php?id=290&chapterid=57', 'redirect_link': 'https://www.google.com/url?sa=t&source=web&rct=j&opi=89978449&url=https://kingseducation.in/mod/book/view.php%3Fid%3D290%26chapterid%3D57&ved=2ahUKEwiVjuPug6iNAxU4KbkGHU5QAdQQFnoECBoQAQ', 'displayed_link': 'https://kingseducation.in › mod › book › view', 'favicon': 'https://serpapi.com/searches/682734d2ac1765ffad048085/images/536f6f18a53e0f7769ea92bc4b602977c5d46e4d7a83c8c862a544979037edc1.png', 'snippet': 'The problem statement of the type \"In how many ways can n identical coins be distributed among r beggars\" is called the beggar\\'s problem.', 'snippet_highlighted_words': ['problem', 'beggars', \"beggar's problem\"], 'source': 'kingseducation.in'}, {'position': 3, 'title': 'Essential Permutations & Combinations: A Self-Teaching ...', 'link': 'https://www.amazon.com/Essential-Permutations-Combinations-Self-Teaching-Guide/dp/1717584748', 'redirect_link': 'https://www.google.com/url?sa=t&source=web&rct=j&opi=89978449&url=https://www.amazon.com/Essential-Permutations-Combinations-Self-Teaching-Guide/dp/1717584748&ved=2ahUKEwiVjuPug6iNAxU4KbkGHU5QAdQQFnoECCUQAQ', 'displayed_link': 'https://www.amazon.com › Essential-Permutations-Com...', 'favicon': 'https://serpapi.com/searches/682734d2ac1765ffad048085/images/536f6f18a53e0f7769ea92bc4b602977d4994f84194ffa73d7385c747fe7cd0b.png', 'snippet': \"'Essential Permutations & Combinations' is a slim book (84 pages) that tackles a single topic and does it very well. This is an excellent book for self study of permutations and combinations.\", 'snippet_highlighted_words': ['Essential Permutations & Combinations'], 'rich_snippet': {'bottom': {'detected_extensions': {'price': 10.99, 'currency': '$', 'rating': 4.0, 'reviews': 21}, 'extensions': ['$10.99', 'In stock', '4.0(21)', '$6.99 delivery', 'Free 30-day returns']}}, 'missing': ['Beggars'], 'must_include': {'word': 'Beggars', 'link': 'https://www.google.com/search?num=5&sca_esv=9a5e0d52e8e6d667&q=%22Beggars%22+problem+permutation+and+combination+related+books&sa=X&ved=2ahUKEwiVjuPug6iNAxU4KbkGHU5QAdQQ5t4CegQIKBAB'}, 'source': 'Amazon.com'}, {'position': 4, 'title': 'Beggar Method: Easy way to learn the scary formula (P&C ...', 'link': 'https://m.youtube.com/watch?v=QNM5eE3HXD0&pp=ygUII2NvaW5pcG0%3D', 'displayed_link': '1.3K+ views · 2 years ago', 'thumbnail': 'https://serpapi.com/searches/682734d2ac1765ffad048085/images/536f6f18a53e0f7769ea92bc4b602977e471f88e880d7f307ca80a3b3bdd7809.jpeg', 'favicon': 'https://serpapi.com/searches/682734d2ac1765ffad048085/images/536f6f18a53e0f7769ea92bc4b60297718a40c2226d66eafe310328260b3e344.png', 'snippet': \"Beggar's Method | Distribution of Alike Objects | Permutation & Combination | Sudarshan Vairagi. Maths with Sudarshan Vairagi [SB Sir]•4.9K ...\", 'duration': '18:44', 'key_moments': [{'time': '00:06', 'title': \"Beggar's Method\", 'link': 'https://m.youtube.com/watch?v=QNM5eE3HXD0&pp=ygUII2NvaW5pcG0%3D&t=6'}, {'time': '01:01', 'title': 'Find the number of ways in which 8 Cadbury Eclairs be distributed between 2 kids, such that each may/may not receive any?', 'link': 'https://m.youtube.com/watch?v=QNM5eE3HXD0&pp=ygUII2NvaW5pcG0%3D&t=61'}, {'time': '03:38', 'title': 'In how many ways can we distribute 10 identical (1) coins among 3 Beggars?', 'link': 'https://m.youtube.com/watch?v=QNM5eE3HXD0&pp=ygUII2NvaW5pcG0%3D&t=218'}, {'time': '09:37', 'title': 'How many positive integral solutions exist for the equation x + y + z =10', 'link': 'https://m.youtube.com/watch?v=QNM5eE3HXD0&pp=ygUII2NvaW5pcG0%3D&t=577'}, {'time': '11:28', 'title': 'In how many ways can 12 identical toys be placed into 4 distinct boxes so that no box remains empty?', 'link': 'https://m.youtube.com/watch?v=QNM5eE3HXD0&pp=ygUII2NvaW5pcG0%3D&t=688'}, {'time': '14:06', 'title': 'Find the number of non-negative integral solutions of the equation x + y + z≤15?', 'link': 'https://m.youtube.com/watch?v=QNM5eE3HXD0&pp=ygUII2NvaW5pcG0%3D&t=846'}], 'missing': ['books'], 'must_include': {'word': 'books', 'link': 'https://www.google.com/search?num=5&sca_esv=9a5e0d52e8e6d667&q=Beggars+problem+permutation+and+combination+related+%22books%22&sa=X&ved=2ahUKEwiVjuPug6iNAxU4KbkGHU5QAdQQ5t4CegQIDRAf'}, 'source': 'YouTube · IPM Leap'}, {'position': 5, 'title': 'Need book recommendation for Permutation and ...', 'link': 'https://www.reddit.com/r/learnmath/comments/8mgpx2/need_book_recommendation_for_permutation_and/', 'redirect_link': 'https://www.google.com/url?sa=t&source=web&rct=j&opi=89978449&url=https://www.reddit.com/r/learnmath/comments/8mgpx2/need_book_recommendation_for_permutation_and/&ved=2ahUKEwiVjuPug6iNAxU4KbkGHU5QAdQQFnoECB4QAQ', 'displayed_link': '5 comments · 6 years ago', 'favicon': 'https://serpapi.com/searches/682734d2ac1765ffad048085/images/536f6f18a53e0f7769ea92bc4b6029774a9359d8222ad5d466117b0ab02bc98d.png', 'snippet': \"George Martin's - Counting: The art of enumerative combinatorics. The first 2 chapters are accessible at high school level, the book is very ...\", 'snippet_highlighted_words': [\"George Martin's - Counting: The art of enumerative combinatorics\"], 'missing': ['Beggars'], 'must_include': {'word': 'Beggars', 'link': 'https://www.google.com/search?num=5&sca_esv=9a5e0d52e8e6d667&q=%22Beggars%22+problem+permutation+and+combination+related+books&sa=X&ved=2ahUKEwiVjuPug6iNAxU4KbkGHU5QAdQQ5t4CegQIIxAB'}, 'source': 'Reddit · r/learnmath'}]\n",
            "Initial generated code:\n",
            "```python\n",
            "from manim import *\n",
            "\n",
            "class BeggarsProblem(Scene):\n",
            "    def construct(self):\n",
            "        # Problem statement\n",
            "        problem_text = MathTex(r\"\\text{Distribute 7 identical candies among 3 beggars,}\",\n",
            "                              r\"\\text{each beggar receiving at least one candy.}\")\n",
            "        problem_text.scale(0.7)\n",
            "        self.play(Write(problem_text))\n",
            "        self.wait(2)\n",
            "        self.play(FadeOut(problem_text))\n",
            "\n",
            "        # Initial setup: give each beggar one candy\n",
            "        initial_candies = VGroup(*[Circle(radius=0.2, color=YELLOW, fill_opacity=1).shift(i * RIGHT) for i in range(7)])\n",
            "        beggars = [MathTex(f\"B{i+1}\").shift(DOWN * 2 + (i-1) * RIGHT * 3) for i in range(3)]\n",
            "        self.play(Create(initial_candies), *[Write(b) for b in beggars])\n",
            "        self.wait(1)\n",
            "\n",
            "        # Give one candy to each beggar\n",
            "        candies_to_give = VGroup(*initial_candies[:3])\n",
            "        animations = [candies_to_give[i].animate.move_to(beggars[i].get_center() + UP) for i in range(3)]\n",
            "        self.play(*animations)\n",
            "        self.wait(1)\n",
            "\n",
            "        remaining_candies = VGroup(*initial_candies[3:])\n",
            "        self.play(remaining_candies.animate.shift(LEFT * 1.5 + UP * 1.5))\n",
            "\n",
            "        remaining_text = MathTex(r\"\\text{Remaining Candies: 4}\").shift(UP * 3)\n",
            "        self.play(Write(remaining_text))\n",
            "        self.wait(1)\n",
            "\n",
            "        # Stars and bars representation\n",
            "        stars = VGroup(*[MathTex(r\"\\star\").scale(1.5).shift(i * RIGHT * 0.7) for i in range(4)]).shift(DOWN)\n",
            "        bars = VGroup(*[MathTex(r\"|\").scale(2).shift(i * RIGHT * 1.4 + LEFT * 0.35) for i in range(2)]).shift(DOWN)\n",
            "\n",
            "        stars_and_bars = VGroup(stars, bars)\n",
            "        stars_and_bars.arrange(buff=0.1)\n",
            "        stars_and_bars.move_to(ORIGIN)\n",
            "\n",
            "        self.play(TransformFromCopy(remaining_candies, stars))\n",
            "        self.play(Create(bars))\n",
            "\n",
            "        self.wait(2)\n",
            "\n",
            "        # Combination calculation\n",
            "        combination_text = MathTex(r\"C(6, 2) = \\frac{6!}{2!4!} = 15\").shift(DOWN * 3)\n",
            "        self.play(Write(combination_text))\n",
            "        self.wait(2)\n",
            "\n",
            "        # Highlight one example arrangement\n",
            "        example_arrangement = stars_and_bars.copy()\n",
            "        example_arrangement.save_state()\n",
            "        self.play(example_arrangement.animate.shift(UP * 0.5))\n",
            "        self.play(example_arrangement.animate.set_color(GREEN))\n",
            "        self.wait(1)\n",
            "        self.play(example_arrangement.animate.restore())\n",
            "\n",
            "        # Final answer\n",
            "        answer_text = MathTex(r\"\\text{There are 15 ways to distribute the candies.}\").shift(DOWN * 3.5)\n",
            "        self.play(TransformMatchingTex(combination_text.copy(), answer_text))\n",
            "\n",
            "        self.wait(3)\n",
            "        print(\"enjoy animation\")\n",
            "```\n",
            "Manim ran successfully.\n"
          ]
        }
      ],
      "source": [
        "state = State(query = '',answer= [])\n",
        "state = graph.invoke(state)"
      ]
    },
    {
      "cell_type": "code",
      "execution_count": null,
      "metadata": {
        "id": "yvacX9dQLcB4",
        "outputId": "23b0f544-3b50-4696-95f2-67402861695c"
      },
      "outputs": [
        {
          "data": {
            "text/plain": [
              "'Beggars problem permutation and combination'"
            ]
          },
          "execution_count": 38,
          "metadata": {},
          "output_type": "execute_result"
        }
      ],
      "source": [
        "state['query']"
      ]
    },
    {
      "cell_type": "code",
      "execution_count": null,
      "metadata": {
        "id": "m7VvbIORLcB5",
        "outputId": "33b54830-29c8-4f4b-86b3-9592885dd136"
      },
      "outputs": [
        {
          "name": "stdout",
          "output_type": "stream",
          "text": [
            "Okay, I understand. I need the \"Beggars problem permutation and combination\" example to be provided first. Once I have that, I will generate a new example that mirrors its structure, tone, and formatting, but with entirely different content, while remaining logically consistent and realistic within the context of permutation and combination problems. I will ensure it doesn't copy or paraphrase the original example.\n",
            "\n",
            "**Please provide the \"Beggars problem permutation and combination\" example.**\n",
            "\n",
            "\n",
            "Here are 3 similar questions for the original question \"Beggars problem permutation and combination\":\n",
            "\n",
            "1. How can permutation and combination techniques be used to solve problems involving distributing items to beggars?\n",
            "2. What combinatorial approaches are effective for determining the number of ways to allocate resources among a group of recipients, similar to the classic \"beggars\" problem?\n",
            "3. Suppose you have a certain number of identical items to distribute among a group of people. Explain how to use permutation and combination principles to calculate the different possible distributions.\n",
            "\n",
            "\n",
            "Youtube videos that you can go through are\n",
            "\n",
            "\n",
            "['1. Beggar Method | Permutation Combination | Mathematics | ALLEN Digital\\n   https://www.youtube.com/watch?v=W8WIgd5OjpQ', '2. Permutation & Combination | One Shot | #BounceBack Series | JEE Maths | Nishant Vora\\n   https://www.youtube.com/watch?v=lmk1sJo0728', '3. Permutations and Combinations Tutorial\\n   https://www.youtube.com/watch?v=XJnIdRXUi7A', \"4. Beggar's Method | Decoded 🧐 | JEE Main 2022 | JEE Maths | Vedantu JEE\\n   https://www.youtube.com/watch?v=i_5i0BEBzFA\", '5. Beggars Method in JEE Mains: 2 Similar, Yet Different P&C Questions | + H.W. | JEE PYQs | JEE 2025\\n   https://www.youtube.com/watch?v=nrg1_4XcsnI']\n",
            "\n",
            "\n",
            "Google search results:\n",
            "\n",
            "\n",
            "1. Which is the best book to learn permutation and ...\n",
            "   https://www.quora.com/What-are-some-good-books-for-permutation-and-combination?top_ans=119349054\n",
            "\n",
            "\n",
            "2. Permutations and Combinations: Beggar's Method\n",
            "   https://kingseducation.in/mod/book/view.php?id=290&chapterid=57\n",
            "\n",
            "\n",
            "3. Essential Permutations & Combinations: A Self-Teaching ...\n",
            "   https://www.amazon.com/Essential-Permutations-Combinations-Self-Teaching-Guide/dp/1717584748\n",
            "\n",
            "\n",
            "4. Beggar Method: Easy way to learn the scary formula (P&C ...\n",
            "   https://m.youtube.com/watch?v=QNM5eE3HXD0&pp=ygUII2NvaW5pcG0%3D\n",
            "\n",
            "\n",
            "5. Need book recommendation for Permutation and ...\n",
            "   https://www.reddit.com/r/learnmath/comments/8mgpx2/need_book_recommendation_for_permutation_and/\n",
            "\n",
            "\n",
            "Recommended NPTEL courses are\n",
            "\n",
            "\n",
            "Recommended NPTEL course(s):\n",
            "\n",
            "\n",
            "Computer Aided Applied Single Objective Optimization - https://archive.nptel.ac.in/noc/courses/noc20/SEM1/noc20-ch19\n",
            "\n",
            "\n",
            "Computer Aided Applied Single Objective Optimization - https://archive.nptel.ac.in/noc/courses/noc20/SEM1/noc20-ch19\n",
            "\n",
            "\n",
            "Computer Aided Applied Single Objective Optimization - https://archive.nptel.ac.in/noc/courses/noc20/SEM1/noc20-ch19\n",
            "\n",
            "\n"
          ]
        }
      ],
      "source": [
        "for i in state['answer']:\n",
        "    print(i)\n",
        "    print('\\n')"
      ]
    },
    {
      "cell_type": "code",
      "execution_count": null,
      "metadata": {
        "id": "H0DiVDZZLcB5"
      },
      "outputs": [],
      "source": []
    }
  ],
  "metadata": {
    "kernelspec": {
      "display_name": "genai",
      "language": "python",
      "name": "python3"
    },
    "language_info": {
      "codemirror_mode": {
        "name": "ipython",
        "version": 3
      },
      "file_extension": ".py",
      "mimetype": "text/x-python",
      "name": "python",
      "nbconvert_exporter": "python",
      "pygments_lexer": "ipython3",
      "version": "3.13.2"
    },
    "colab": {
      "provenance": [],
      "include_colab_link": true
    }
  },
  "nbformat": 4,
  "nbformat_minor": 0
}